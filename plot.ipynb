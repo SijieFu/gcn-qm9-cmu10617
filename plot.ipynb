{
 "cells": [
  {
   "cell_type": "code",
   "execution_count": null,
   "metadata": {},
   "outputs": [],
   "source": [
    "import numpy as np\n",
    "import matplotlib.pyplot as plt"
   ]
  },
  {
   "cell_type": "code",
   "execution_count": null,
   "metadata": {},
   "outputs": [],
   "source": [
    "def barplot(rates, label, ns=ns, ps=ps, barwidth=0.2, N=10000, alpha=alpha):\n",
    "    plt.figure(figsize=(8,4))\n",
    "    for i, n in enumerate(ns):\n",
    "        plt.bar(np.arange(len(ps))+i*barwidth, rates[:,i], width=barwidth, label=f'n={n}')\n",
    "    plt.xlabel(f\"p\")\n",
    "    plt.ylabel(f\"success rate (true p in {label} CI)\")\n",
    "    plt.title(f\"Results of the {label} interval (N={N})\")\n",
    "    plt.xticks(np.arange(len(ps))+(len(ns)-1)/2*barwidth, [f\"{p:.1f}\" for p in ps])\n",
    "    plt.xlim([-0.1*len(ns), len(ps)+0.02])\n",
    "    plt.ylim([np.min(rates)-0.1, 1.0+0.1*np.ptp(rates)])\n",
    "    plt.plot([-0.1*len(ns), len(ps)+0.02], [1-alpha, 1-alpha], '--', color='black', label=r\"$\\alpha$\"+f\"={alpha:.2f}\")\n",
    "    plt.legend(loc='center left', bbox_to_anchor=(1, 0.5))\n",
    "    plt.savefig(f\"1c_{label}.png\", dpi=300, bbox_inches='tight')\n",
    "    plt.show()"
   ]
  }
 ],
 "metadata": {
  "kernelspec": {
   "display_name": "Python 3.9.15 ('10617')",
   "language": "python",
   "name": "python3"
  },
  "language_info": {
   "name": "python",
   "version": "3.9.15"
  },
  "orig_nbformat": 4,
  "vscode": {
   "interpreter": {
    "hash": "df6460bcc6cb4b636ccc7a85c74eec510707e8b7f538d4dd9ea825bb21086f36"
   }
  }
 },
 "nbformat": 4,
 "nbformat_minor": 2
}
