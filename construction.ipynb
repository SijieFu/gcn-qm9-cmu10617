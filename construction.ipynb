{
 "cells": [
  {
   "cell_type": "code",
   "execution_count": 3,
   "metadata": {},
   "outputs": [],
   "source": [
    "import torch, sys, json, os, pickle\n",
    "from torchdrug import data, datasets, core, models, tasks, utils\n",
    "import numpy as np\n",
    "import rdkit.Chem.AllChem as Chem"
   ]
  },
  {
   "cell_type": "code",
   "execution_count": 31,
   "metadata": {},
   "outputs": [
    {
     "name": "stderr",
     "output_type": "stream",
     "text": [
      "[18:22:00] Molecule does not have explicit Hs. Consider calling AddHs()\n"
     ]
    }
   ],
   "source": [
    "# Some utilities \n",
    "\n",
    "# Load dataset\n",
    "def load_from_pickle(pkl_file, name = \"QM9\"):\n",
    "    print(f\"Loading {name} dataset...\")\n",
    "    with open(pkl_file , \"rb\") as f:\n",
    "        dset = pickle.load(f)\n",
    "    print(f\"Loaded {name} dataset.\")\n",
    "    return dset\n",
    "# Clean dataset\n",
    "def clean_dataset(dataset):\n",
    "    errors = 0\n",
    "    good_mols = []\n",
    "    for i, mol in enumerate(dataset.data):\n",
    "        if mol.stereo_atoms is not None and mol.stereo_atoms.size()[1] == 0:\n",
    "            errors += 1\n",
    "            mol.stereo_atoms = torch.zeros([int(mol.num_edge), 2], dtype=torch.int64)\n",
    "        elif int(mol.num_edge) == 0:\n",
    "            if mol.stereo_atoms is not None:\n",
    "                errors += 1\n",
    "                mol.stereo_atoms = torch.tensor([])\n",
    "        good_mols.append(mol)\n",
    "    if errors > 0:\n",
    "        print(\"Errors found, revising dataset.\")\n",
    "        dataset.data = good_mols\n",
    "    else:\n",
    "        print(\"No errors found!\")\n",
    "    return dataset\n",
    "# Molecule Graph from SMILES\n",
    "def mol_graph_from_smiles(SMILES, mol_feature = None):\n",
    "    mol = data.Molecule.from_smiles(SMILES, mol_feature = mol_feature)\n",
    "    return mol\n",
    "# Save dataset\n",
    "def save_to_pickle(pkl_file, dset, name = \"QM9\", size = 20):\n",
    "    print(f\"Saving {name} dataset...\")\n",
    "    if size == \"full\":\n",
    "        dset = dset\n",
    "    else:\n",
    "        dset = dset[:size]\n",
    "    with open(pkl_file , \"wb\") as f:\n",
    "        pickle.dump(dset, f)\n",
    "    print(f\"Saved {name} dataset to {pkl_file}.\")\n",
    "# update edge\n",
    "def edge_distance(molecule):\n",
    "    test_mol = molecule\n",
    "    # add dummy dimesnion to edges to replace with distances\n",
    "    n_edges = molecule.num_edge\n",
    "    updated_edges = torch.zeros(size = (test_mol.edge_list.size()))\n",
    "    test_mol.edge_feature = torch.hstack((test_mol.edge_feature,  torch.zeros(size = (test_mol.edge_feature.size()[0], 1))))\n",
    "    # iterate edges\n",
    "    bond_distances = []\n",
    "    for i, edge in enumerate(test_mol.edge_feature):\n",
    "        nodes = test_mol.edge_list[i][:-1].tolist()\n",
    "        n1_i, n2_i = nodes[0], nodes[1]\n",
    "        n1_pos, n2_pos = test_mol.node_position[n1_i], test_mol.node_position[n2_i]\n",
    "        distance = np.linalg.norm(n1_pos - n2_pos)\n",
    "        bond_distances.append(distance)\n",
    "    bond_distances = np.array(bond_distances).reshape(-1, 1)\n",
    "    # reciprocal of distance\n",
    "    test_mol.edge_feature[:, 18] = 1 / torch.tensor(bond_distances)[:, 0]\n",
    "\n",
    "    return test_mol\n",
    "\n",
    "# molecule\n",
    "SMILES = \"CCO\"\n",
    "rdkit_mol = Chem.MolFromSmiles(SMILES)\n",
    "Chem.EmbedMolecule(rdkit_mol)\n",
    "node_position = torch.tensor(rdkit_mol.GetConformer().GetPositions())\n",
    "# molecular graph\n",
    "test_mol = data.Molecule.from_molecule(rdkit_mol)\n",
    "# edge rep\n",
    "out_mol = edge_distance(test_mol)"
   ]
  },
  {
   "cell_type": "code",
   "execution_count": 32,
   "metadata": {},
   "outputs": [
    {
     "name": "stdout",
     "output_type": "stream",
     "text": [
      "Loading QM9 dataset...\n",
      "Loaded QM9 dataset.\n"
     ]
    }
   ],
   "source": [
    "qm9 = load_from_pickle(\"QM9.pkl\", \"QM9\")\n",
    "dataset = qm9\n",
    "updated_data = []\n",
    "dataset.data = [edge_distance(mol) for mol in dataset.data]"
   ]
  },
  {
   "cell_type": "code",
   "execution_count": null,
   "metadata": {},
   "outputs": [],
   "source": [
    "# Split dataset\n",
    "lengths = [int(0.1 * len(dataset)), int(0.1 * len(dataset))]\n",
    "lengths += [len(dataset) - sum(lengths)]\n",
    "train_set, valid_set, test_set = torch.utils.data.random_split(dataset, lengths)\n",
    "\n",
    "# Arguments\n",
    "hidden_dim = 256\n",
    "lr = 1e-3\n",
    "batch_size = 128\n",
    "epochs = 5\n",
    "gpus = [0]\n",
    "if torch.cuda.is_available():\n",
    "     gpus = [0]\n",
    "else:\n",
    "     gpus = None\n",
    "     \n",
    "# Define model\n",
    "model = models.GCN(input_dim = dataset.node_feature_dim,\n",
    "                   hidden_dims = [256, 128, 64],\n",
    "                   edge_input_dim = dataset.edge_feature_dim)\n",
    "\n",
    "# Define task\n",
    "task = tasks.PropertyPrediction(model, task=dataset.tasks)\n",
    "\n",
    "# Optimizer\n",
    "optimizer = torch.optim.Adam(task.parameters(), lr=lr)\n",
    "\n",
    "# Solver\n",
    "solver = core.Engine(task,\n",
    "                     train_set,\n",
    "                     valid_set,\n",
    "                     test_set,\n",
    "                     optimizer,\n",
    "                     gpus = gpus,\n",
    "                     batch_size = batch_size)\n",
    "\n",
    "# Train model\n",
    "solver.train(num_epoch=epochs)"
   ]
  },
  {
   "cell_type": "code",
   "execution_count": null,
   "metadata": {},
   "outputs": [],
   "source": [
    "bonds = [rdkit_mol.GetBondWithIdx(i) for i in range(rdkit_mol.GetNumBonds())]\n",
    "print(bonds)\n",
    "for bond in bonds:\n",
    "    type = str(bond.GetBondType())\n",
    "    stereo = bond.GetStereo()\n",
    "    if stereo:\n",
    "        _atoms = [a for a in bond.GetStereoAtoms()]\n",
    "    else:\n",
    "        _atoms = [0, 0]\n",
    "    print(_atoms)"
   ]
  },
  {
   "cell_type": "code",
   "execution_count": 25,
   "metadata": {},
   "outputs": [],
   "source": [
    "d = {}\n",
    "d[\"b_type\"] = Chem.rdchem.BondType.SINGLE\n",
    "e_t = [int(d['b_type'] == x) for x in [Chem.rdchem.BondType.SINGLE, Chem.rdchem.BondType.DOUBLE,\n",
    "                                        Chem.rdchem.BondType.TRIPLE, Chem.rdchem.BondType.AROMATIC]]"
   ]
  }
 ],
 "metadata": {
  "kernelspec": {
   "display_name": "Python 3.9.15 ('10617')",
   "language": "python",
   "name": "python3"
  },
  "language_info": {
   "codemirror_mode": {
    "name": "ipython",
    "version": 3
   },
   "file_extension": ".py",
   "mimetype": "text/x-python",
   "name": "python",
   "nbconvert_exporter": "python",
   "pygments_lexer": "ipython3",
   "version": "3.9.15"
  },
  "orig_nbformat": 4,
  "vscode": {
   "interpreter": {
    "hash": "df6460bcc6cb4b636ccc7a85c74eec510707e8b7f538d4dd9ea825bb21086f36"
   }
  }
 },
 "nbformat": 4,
 "nbformat_minor": 2
}
